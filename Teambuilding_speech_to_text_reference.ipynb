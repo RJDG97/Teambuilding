{
  "cells": [
    {
      "cell_type": "markdown",
      "metadata": {
        "id": "4-XEGsjdDmnP"
      },
      "source": [
        "# Teambuilding Speech to text"
      ]
    },
    {
      "cell_type": "markdown",
      "metadata": {
        "id": "yRgQAw3TD2Mi"
      },
      "source": [
        "## Overview\n",
        "\n",
        "This Colab notebook serves as a template for our teambuilding exercise, focusing on the development of a speech-to-text application to assist children with disabilities, particularly those with autism and deafness.\n",
        "\n",
        "These children often experience sensory overload in traditional classroom environments, making it challenging to process both audio and visual information simultaneously.\n",
        "\n",
        "By transcribing audio into text, this application aims to provide a more accessible and inclusive learning experience.\n",
        "\n",
        "### Objective\n",
        "\n",
        "Using this notebook as a template, achieve the following objectives:\n",
        "*   Provide an accurate transcription of the given audio file.\n",
        "*   Discern individual actors within the audio clip\n",
        "*   Design a front end that is able to keep our personas engaged in their class\n",
        "\n",
        "\n"
      ]
    },
    {
      "cell_type": "markdown",
      "metadata": {
        "id": "96l9dfWKHtOn"
      },
      "source": [
        "## Pre-requisite setup\n",
        "This section installs all the requirements we need to run the streamlit application as well as use GenAI to help with our use case."
      ]
    },
    {
      "cell_type": "code",
      "execution_count": null,
      "metadata": {
        "cellView": "form",
        "id": "g7DtKr5xHlZX"
      },
      "outputs": [],
      "source": [
        "# @title Install Pre-requisites\n",
        "# @markdown Here we will install all the dependencies required and files\n",
        "!pip3 install -q streamlit\n",
        "!pip3 install -q python-dotenv\n",
        "!pip3 install -q google-generativeai\n",
        "\n",
        "!npm install -q localtunnel\n",
        "\n",
        "# @title Retrieve reference files\n",
        "!git clone -q \"https://github.com/RJDG97/Teambuilding.git\""
      ]
    },
    {
      "cell_type": "markdown",
      "metadata": {
        "id": "G6YLTERqJe82"
      },
      "source": [
        "## Speech to text code\n",
        "This section contains the code to build your app including the streamlit UI as well as accessing gemini.\n",
        "\n",
        "Feel free to modify the code to improve your app!"
      ]
    },
    {
      "cell_type": "code",
      "execution_count": null,
      "metadata": {
        "cellView": "form",
        "id": "njnPG94wJXXx"
      },
      "outputs": [],
      "source": [
        "# @title Create your app\n",
        "# @markdown # Retrieve reference files\n",
        "%%writefile app.py\n",
        "\n",
        "import os\n",
        "import sys\n",
        "import datetime\n",
        "from dotenv import load_dotenv\n",
        "import streamlit as st\n",
        "import google.generativeai as genai\n",
        "import glob\n",
        "\n",
        "# Vertex AI imports\n",
        "import vertexai\n",
        "from vertexai.generative_models import (\n",
        "    GenerationConfig,\n",
        "    GenerativeModel,\n",
        "    HarmBlockThreshold,\n",
        "    HarmCategory,\n",
        "    Part,\n",
        "    Content,\n",
        ")\n",
        "\n",
        "# Environment variables\n",
        "# @markdown ### Set your environment\n",
        "# @markdown If the GenAI key does not work please go [here](https://aistudio.google.com/app/apikey) to get your api key\n",
        "load_dotenv()\n",
        "GENAI_APIKEY = \"\" # @param {type:\"string\"}\n",
        "genai.configure(api_key=GENAI_APIKEY)\n",
        "\n",
        "# @markdown ### Choose your AI Model\n",
        "# Configure Vertex AI\n",
        "MODEL_ID = \"gemini-1.5-flash-001\"  # @param [\"gemini-1.5-pro-001\", \"gemini-1.5-flash-001\"] {isTemplate:true}\n",
        "model = genai.GenerativeModel(MODEL_ID)\n",
        "\n",
        "# --- Helper Functions ---\n",
        "def generate_ai_response(contents):\n",
        "    generation_config = {\n",
        "                            \"max_output_tokens\": 8192,\n",
        "                            \"temperature\": 0.05,\n",
        "                            \"top_p\": 0.95,\n",
        "                        }\n",
        "\n",
        "    response = model.generate_content(contents, generation_config=generation_config,)\n",
        "    if response:\n",
        "        st.write(\"Response:\")\n",
        "        st.write(response.text)\n",
        "# --- End of Helper functions ---\n",
        "\n",
        "# --- App Variables ---\n",
        "# Sample outputs\n",
        "audio_sample_output= \"\"\"\n",
        "    | Speaker | Text |\n",
        "    |---|---|\n",
        "    | **Teacher** | So the inquiry question is: Mauritius, is tourism the way to go? So we have three groups supporting yes, tourism should be done, and we have three groups supporting no, it shouldn't be done. |\n",
        "    | **Student A** | We are well aware the tourism sector contribute to one quarter of our local economy. |\n",
        "    | **Student B** | You guys claim that you guys want to invest more money into tourism, correct? Why don't we invest the money into upgrading our sugarcane plantation so that they are more resistant to rising water temperatures which is caused by the increased carbon footprint which is produced by tourist activity? |\n",
        "    | **Student C** | Sugarcane is affected by natural disasters. We cannot control them. So what do you want the government to do? Did you read the background information properly? Because it's the natural disaster that is affecting sugarcane and not your carbon footprint. Thank you. |\n",
        "    | **Teacher** | Okay. No, no, no, no more questions. No, no. No back and forth. Okay. So pass down the reflection sheet. Okay, while we discuss for about five minutes, you complete the post-conference reflections. |    Detailed Summary:\n",
        "\n",
        "    \\n\n",
        "    This transcription captures a lively classroom debate in Singapore. The central question is whether tourism is the right path for Mauritius.\n",
        "\n",
        "    \\n\n",
        "    Student A, representing the pro-tourism side, highlights tourism's significant contribution to the local economy.\n",
        "    Student B, opposing excessive reliance on tourism, challenges the pro-tourism group's proposal to invest more in the sector. They suggest investing in sugarcane plantations instead, aiming to enhance their resilience against climate change impacts, which they argue are exacerbated by tourism.\n",
        "    Student C, also seemingly against over-dependence on tourism, retorts that natural disasters, not carbon footprint from tourism, are the primary threat to sugarcane. They question the opposing group's grasp of the background information.\n",
        "    The Teacher, mediating the debate, calls for order, preventing further back-and-forth arguments. They then instruct the students to complete a reflection sheet while a separate discussion takes place.\n",
        "    The debate showcases critical thinking, with students presenting economic and environmental arguments. The use of Singaporean English is evident in the vocabulary and pronunciation.\n",
        "    \"\"\"\n",
        "\n",
        "text_sample_output =\"\"\"\n",
        "Response:\n",
        "\n",
        "## Arguments for and Against Investing in Tourism in Mauritius\n",
        "\n",
        "### Argument For Investing in Tourism\n",
        "\n",
        "- **Tourism's Contribution to the Economy**:\n",
        "  - The audio states, \"The tourism sector contributes to one-quarter of our local economy.\"\n",
        "  - This argument is found on slide 2, in the infographic titled **\"SUSTAINABLE TOURISM\"**.\n",
        "  - The infographic highlights:\n",
        "    - \"Tourism is responsible for 235 million jobs in the world.\"\n",
        "    - Tourism is the \"Main income source for many developing countries.\"\n",
        "\n",
        "### Argument Against Investing in Tourism\n",
        "\n",
        "- **Environmental Impact**:\n",
        "  - The opposing team suggests investing in upgrading sugarcane plantations to be more resistant to rising water temperatures caused by the increased carbon footprint of tourist activity.\n",
        "  - This argument is based on the information provided on slide 3, which states:\n",
        "    - \"The growth of tourism and sugar plantations industries has [an] impact on the biodiversity of the country.\"\n",
        "    - Highlights the \"ecological destruction\" caused by tourism-related activities.\n",
        "\n",
        "- **Impact of Natural Disasters**:\n",
        "  - The audio mentions the impact of natural disasters on sugarcane plantations. However, this point is refuted as not being directly related to the carbon footprint of tourism.\n",
        "                    \"\"\"\n",
        "# --- End of App Variables ---\n",
        "\n",
        "# --- Prompts ---\n",
        "# @markdown ### AI Context Prompt\n",
        "# @markdown Here you can edit the prompts given to the AI Model to give it context on its job \\\n",
        "# @markdown \\\n",
        "# @markdown Edit the prompt to get a more accurate transcription for the objectives \\\n",
        "# @markdown \\\n",
        "# @markdown **Sample Audio prompt**\n",
        "# @markdown ```\n",
        "# @markdown You are a transcriber for a classroom,\n",
        "# @markdown provide a transcription that differentiates teachers and students.\n",
        "# @markdown ```\n",
        "AUDIO_CONTEXT_PROMPT = \"You are a transcriber for a classroom, provide a transcription that differentiates teachers and students \"# @param {type:\"string\"}\n",
        "# @markdown **Sample PDF prompt** \\\n",
        "# @markdown ```\n",
        "# @markdown You are a teacher's assistant looking to help make citations,\n",
        "# @markdown cite where the arguments made in the audio file can be found in the slides\n",
        "# @markdown and give the exact file name and page of the slide.\n",
        "# @markdown ```\n",
        "PDF_CONTEXT_PROMPT = \"You are a teacher's assistant looking to help make citations , cite where the arguments made in the audio file can be found in the slides and give the exact file name and page of the slide.\"# @param {type:\"string\"}\n",
        "# --- End of Prompts ---\n",
        "\n",
        "def main():\n",
        "# --- App layout ---\n",
        "    tab1, tab2 = st.tabs([\"Document + Audio\", \"Audio\",])\n",
        "    with tab1:\n",
        "        st.subheader(\"Citing information in lessons to the slides\", divider='gray')\n",
        "        st.markdown(\"\"\"\n",
        "                    Gemini is able to ingest large amounts of unstructured data such as PDFs and audio\n",
        "                    to help with the citations of materials. \\n\n",
        "                    \"\"\")\n",
        "\n",
        "        # Selector for pdfs\n",
        "        pdf_path = \"/content/Teambuilding/Samples/pdf/\"\n",
        "        pdf_list = [os.path.basename(x) for x in glob.glob(pdf_path + \"*\")]\n",
        "        uc1_reports = st.multiselect(\n",
        "            \"Select the slides you want to include. \\n\\n\",\n",
        "            pdf_list,\n",
        "            key=\"uc1_reports\",\n",
        "        )\n",
        "\n",
        "        #Selector for audio\n",
        "        audio_path = \"/content/Teambuilding/Samples/audio/\"\n",
        "        audio_list = [os.path.basename(x) for x in glob.glob(audio_path + \"*\")]\n",
        "        uc1_audio = st.multiselect(\n",
        "            \"Select the audio you would like to reference. \\n\\n\",\n",
        "            audio_list,\n",
        "            key=\"uc1_audio\",\n",
        "        )\n",
        "\n",
        "        # Button to Analyze Audio & Doc\n",
        "        generate_t2t_uc1 = st.button(\"Analyze my report\", key=\"generate_t2t_uc1\")\n",
        "\n",
        "        # Generate response from given resources when pressed\n",
        "        if generate_t2t_uc1 and PDF_CONTEXT_PROMPT:\n",
        "            with st.spinner(f\"Analyzing using {MODEL_ID} ...\"):\n",
        "                first_tab1, first_tab2, first_tab3 = st.tabs([\"Analysis\", \"Prompt\", \"Sample\"])\n",
        "                with first_tab1:\n",
        "                    # Resources you are providing the AI Model\n",
        "                    contents =[]\n",
        "                    # Upload resources to GenAI\n",
        "\n",
        "                    for report in uc1_reports:\n",
        "                        # Upload file to genai\n",
        "                        pdf_file = genai.upload_file(path=pdf_path + report, mime_type=\"application/pdf\",display_name=report)\n",
        "                        contents.append(pdf_file)\n",
        "\n",
        "                    for audio in uc1_audio:\n",
        "                        # Upload audio to genai\n",
        "                        audio_file_uploaded = genai.upload_file(path=audio_path + audio, mime_type=\"audio/mp3\",display_name=audio)\n",
        "                        contents.append(audio_file_uploaded)\n",
        "                    contents.append(PDF_CONTEXT_PROMPT)\n",
        "\n",
        "                    # Generate a Response from the AI Model\n",
        "                    generate_ai_response(contents)\n",
        "\n",
        "                with first_tab2:\n",
        "                    st.text(PDF_CONTEXT_PROMPT)\n",
        "                with first_tab3:\n",
        "                    st.markdown(text_sample_output)\n",
        "\n",
        "    with tab2:\n",
        "        # Tab Subheader\n",
        "        st.subheader(\n",
        "            \"Transcribing audio with Gemini\", divider='gray'\n",
        "        )\n",
        "        # Tab Description\n",
        "        st.write(\n",
        "            \"\"\"\n",
        "            Gemini 1.5 is able to transcribe conversations from audio. It is able to do so with great accuracy and\n",
        "            is able to identify multiple languages without any pre-calibration, as compared to traditional transcribing software.\n",
        "            It can return the transcript in a file format that can be further processed as seen below.\n",
        "            It also has a 1 Million context window. This allows you to process up to 11h of audio in a single prompt\"\"\"\n",
        "        )\n",
        "\n",
        "        # Multiselect for audio\n",
        "        uc2_audio = st.multiselect(\n",
        "            \"Select the audio you would like to reference. \\n\\n\",\n",
        "            audio_list,\n",
        "            key=\"uc2_audio\",\n",
        "        )\n",
        "\n",
        "        # Create sub tabs\n",
        "        tabo1, tabo2, tabo3 = st.tabs([\"Response\", \"Prompt\", \"Answers\"])\n",
        "\n",
        "        # Button to generate an ai response\n",
        "        audio_geolocation_description = st.button(\n",
        "            \"Generate\", key=\"audio_geolocation_description\"\n",
        "        )\n",
        "\n",
        "        # Response tab\n",
        "        with tabo1:\n",
        "            if audio_geolocation_description and AUDIO_CONTEXT_PROMPT:\n",
        "                with st.spinner(f\"Analyzing using {MODEL_ID} ...\"):\n",
        "                    for audio in uc2_audio:\n",
        "                        # Upload audio to genai\n",
        "                        audio_file_tab_uploaded = genai.upload_file(path=audio_path + audio, mime_type=\"audio/mp3\",display_name=audio)\n",
        "                        contents = [audio_file_tab_uploaded, AUDIO_CONTEXT_PROMPT,]\n",
        "                        generate_ai_response(contents)\n",
        "                        st.markdown(\"\\n\\n\\n\")\n",
        "        # Prompt tab\n",
        "        with tabo2:\n",
        "            st.write(\"Prompt used:\")\n",
        "            st.write(AUDIO_CONTEXT_PROMPT)\n",
        "        # Answer tab\n",
        "        with tabo3:\n",
        "            st.write(\"Answers:\")\n",
        "            st.write(\n",
        "                audio_sample_output\n",
        "            )\n",
        "# --- End of App layout ---\n",
        "\n",
        "if __name__ == \"__main__\":\n",
        "    main()"
      ]
    },
    {
      "cell_type": "markdown",
      "metadata": {
        "id": "m-B_W9Rlix8F"
      },
      "source": [
        "## Play with the app layout\n",
        "To change the layout of your app you can select **'show code'** in the block above and edit the **app layout section** to make it user friendly for our persona!\n",
        "\n",
        "Below are some reference code to creating various UI elements on streamlit.\n",
        "\n",
        "For additional features [go here](https://docs.streamlit.io/develop/api-reference)"
      ]
    },
    {
      "cell_type": "markdown",
      "metadata": {
        "id": "1YKMm8d764FL"
      },
      "source": [
        "### Navigation\n",
        "References for creating tabs for app navigation."
      ]
    },
    {
      "cell_type": "markdown",
      "metadata": {
        "id": "HgFiThNQjDoS"
      },
      "source": [
        "#### Creating Tabs\n",
        "To create tabs you can follow the following code\n",
        "```\n",
        "tab1, tab2 = st.tabs([\"sample tab title 1\", \"sample tab title 2\"])\n",
        "```\n",
        "Within the '[]' you can define tabs and their titles by quoting them with \"\" and assigning them to variables such as the tab1 and tab2 above\n",
        "\n",
        "To add items into your tab, you can use \"with < tab1 >:\" similar to the code below\n",
        "```\n",
        "with tab1:\n",
        "  st.write(\"This is sample text\")\n",
        "```"
      ]
    },
    {
      "cell_type": "markdown",
      "metadata": {
        "id": "FpgDmx7y29or"
      },
      "source": [
        "### Text Elements\n",
        "Reference for creating titles, headers and subheader elements for the app."
      ]
    },
    {
      "cell_type": "markdown",
      "metadata": {
        "id": "dcAHpp5cjHrY"
      },
      "source": [
        "#### Creating Title\n",
        "To create titles for your app you can put in the following code\n",
        "```\n",
        "st.title(\"sample title\")\n",
        "```"
      ]
    },
    {
      "cell_type": "markdown",
      "metadata": {
        "id": "UHH5Gukt3yqC"
      },
      "source": [
        "#### Creating Header\n",
        "Display text in header formatting.\n",
        "```\n",
        "st.header(\"This is a header\")\n",
        "```\n",
        "Display text in subheader formatting.\n",
        "```\n",
        "st.subheader(\"This is a subheader\")\n",
        "```"
      ]
    },
    {
      "cell_type": "markdown",
      "metadata": {
        "id": "JhwHceRe2NcB"
      },
      "source": [
        "### Writing text\n",
        "Reference for writing text and stream text for the app"
      ]
    },
    {
      "cell_type": "markdown",
      "metadata": {
        "id": "_bNrkdxm2W2E"
      },
      "source": [
        "#### Write text\n",
        "Write arguments to the app.\n",
        "```\n",
        "st.write(\"Hello\")\n",
        "```"
      ]
    },
    {
      "cell_type": "markdown",
      "metadata": {
        "id": "9g0uQpR12gqL"
      },
      "source": [
        "#### Write stream text\n",
        "Stream a generator, iterable, or stream-like sequence to the app.\n",
        "```\n",
        "def stream_data():\n",
        "    for word in _LOREM_IPSUM.split(\" \"):\n",
        "        yield word + \" \"\n",
        "        time.sleep(0.02)\n",
        "\n",
        "    yield pd.DataFrame(\n",
        "        np.random.randn(5, 10),\n",
        "        columns=[\"a\", \"b\", \"c\", \"d\", \"e\", \"f\", \"g\", \"h\", \"i\", \"j\"],\n",
        "    )\n",
        "\n",
        "    for word in _LOREM_IPSUM.split(\" \"):\n",
        "        yield word + \" \"\n",
        "        time.sleep(0.02)\n",
        "\n",
        "\n",
        "if st.button(\"Stream data\"):\n",
        "    st.write_stream(stream_data)\n",
        "```"
      ]
    },
    {
      "cell_type": "markdown",
      "metadata": {
        "id": "zsgqPBuH7JQL"
      },
      "source": [
        "### Media elements\n",
        "Reference for creating images, audio, videos and dividers for the app.\n"
      ]
    },
    {
      "cell_type": "markdown",
      "metadata": {
        "id": "TzYQAfuT7OMv"
      },
      "source": [
        "#### Display image\n",
        "Display an image or list of images.\n",
        "```\n",
        "st.image(\"sunrise.jpg\", caption=\"Sunrise by the mountains\")\n",
        "```"
      ]
    },
    {
      "cell_type": "markdown",
      "metadata": {
        "id": "Sk7aru_27Ytp"
      },
      "source": [
        "#### Displays audio\n",
        "Display an audio player.\n",
        "```\n",
        "st.audio(\"cat-purr.mp3\", format=\"audio/mpeg\", loop=True)\n",
        "```"
      ]
    },
    {
      "cell_type": "markdown",
      "metadata": {
        "id": "7fPpPWJ07fxs"
      },
      "source": [
        "#### Displays video\n",
        "Display a video player.\n",
        "```\n",
        "video_file = open(\"myvideo.mp4\", \"rb\")\n",
        "video_bytes = video_file.read()\n",
        "\n",
        "st.video(video_bytes)\n",
        "```"
      ]
    },
    {
      "cell_type": "markdown",
      "metadata": {
        "id": "Dl7cRpEB4QyM"
      },
      "source": [
        "#### Creating Dividers\n",
        "Display a horizontal rule.\n",
        "```\n",
        "st.divider()\n",
        "```"
      ]
    },
    {
      "cell_type": "markdown",
      "metadata": {
        "id": "RTjoyOVk4iR1"
      },
      "source": [
        "### Input widgets\n",
        "Reference for creating buttons, uploaders, checkboxes, links etc. for the app"
      ]
    },
    {
      "cell_type": "markdown",
      "metadata": {
        "id": "GwYzl_ZD6MRQ"
      },
      "source": [
        "#### Button\n",
        "Display a button widget.\n",
        "```\n",
        "st.button(\"Reset\", type=\"primary\")\n",
        "if st.button(\"Say hello\"):\n",
        "    st.write(\"Why hello there\")\n",
        "```"
      ]
    },
    {
      "cell_type": "markdown",
      "metadata": {
        "id": "WESd7iCW5-hR"
      },
      "source": [
        "#### Download button\n",
        "Display a download button widget.\n",
        "```\n",
        "text_contents = '''This is some text'''\n",
        "st.download_button(\"Download some text\", text_contents)\n",
        "```"
      ]
    },
    {
      "cell_type": "markdown",
      "metadata": {
        "id": "iG_kmq606gDd"
      },
      "source": [
        "#### File Uploader\n",
        "Display a file uploader widget.\n",
        "```\n",
        "uploaded_files = st.file_uploader(\n",
        "    \"Choose a CSV file\", accept_multiple_files=True\n",
        ")\n",
        "for uploaded_file in uploaded_files:\n",
        "    bytes_data = uploaded_file.read()\n",
        "    st.write(\"filename:\", uploaded_file.name)\n",
        "    st.write(bytes_data)\n",
        "```"
      ]
    },
    {
      "cell_type": "markdown",
      "metadata": {
        "id": "zhw6DAFG5ZAR"
      },
      "source": [
        "#### Checkbox\n",
        "Display a checkbox widget.\n",
        "```\n",
        "agree = st.checkbox(\"I agree\")\n",
        "```"
      ]
    },
    {
      "cell_type": "markdown",
      "metadata": {
        "id": "Lm3-dI_r53d5"
      },
      "source": [
        "#### Feedback\n",
        "Display a feedback widget.\n",
        "```\n",
        "sentiment_mapping = [\"one\", \"two\", \"three\", \"four\", \"five\"]\n",
        "selected = st.feedback(\"stars\")\n",
        "if selected is not None:\n",
        "    st.markdown(f\"You selected {sentiment_mapping[selected]} star(s).\")\n",
        "```\n"
      ]
    },
    {
      "cell_type": "markdown",
      "metadata": {
        "id": "53XcAx9S5vOC"
      },
      "source": [
        "#### Link button\n",
        "Display a link button element.\n",
        "```\n",
        "st.link_button(\"Go to gallery\", \"https://streamlit.io/gallery\")\n",
        "```"
      ]
    },
    {
      "cell_type": "markdown",
      "metadata": {
        "id": "TJoYexT75jTX"
      },
      "source": [
        "#### Page link\n",
        "Display a link to another page in a multipage app or to an external page.\n",
        "```\n",
        "st.page_link(\"http://www.google.com\", label=\"Google\", icon=\"🌎\")\n",
        "```"
      ]
    },
    {
      "cell_type": "markdown",
      "metadata": {
        "id": "fvFJ6Dem5FRG"
      },
      "source": [
        "#### Select box\n",
        "Display a select widget.\n",
        "```\n",
        "option = st.selectbox(\n",
        "    \"How would you like to be contacted?\",\n",
        "    (\"Email\", \"Home phone\", \"Mobile phone\"),\n",
        ")\n",
        "```"
      ]
    },
    {
      "cell_type": "markdown",
      "metadata": {
        "id": "Os5Fd0175O8_"
      },
      "source": [
        "#### Multselect\n",
        "Display a multiselect widget.\n",
        "```\n",
        "options = st.multiselect(\n",
        "    \"What are your favorite colors\",\n",
        "    [\"Green\", \"Yellow\", \"Red\", \"Blue\"],\n",
        "    [\"Yellow\", \"Red\"],\n",
        ")\n",
        "```"
      ]
    },
    {
      "cell_type": "markdown",
      "metadata": {
        "id": "D-MFst_d0eAh"
      },
      "source": [
        "### Status Elements\n",
        "Reference for creating progress bars, code messages and statuses for the app"
      ]
    },
    {
      "cell_type": "markdown",
      "metadata": {
        "id": "yEN1CLyM1lx7"
      },
      "source": [
        "#### Creating a progress bar\n",
        "Display a progress bar\n",
        "```\n",
        "progress_text = \"Operation in progress. Please wait.\"\n",
        "my_bar = st.progress(0, text=progress_text)\n",
        "\n",
        "for percent_complete in range(100):\n",
        "    time.sleep(0.01)\n",
        "    my_bar.progress(percent_complete + 1, text=progress_text)\n",
        "```"
      ]
    },
    {
      "cell_type": "markdown",
      "metadata": {
        "id": "KzrEMjMC0HTU"
      },
      "source": [
        "#### Creating Temporary code messages\n",
        "Temporarily displays a message while executing a block of code.\n",
        "\n",
        "```\n",
        "with st.spinner('Wait for it...'):\n",
        "    time.sleep(5)\n",
        "st.success(\"Done!\")\n",
        "```"
      ]
    },
    {
      "cell_type": "markdown",
      "metadata": {
        "id": "HQZp-mf80rS8"
      },
      "source": [
        "#### Status message\n",
        "Insert a [status container](https://docs.streamlit.io/develop/api-reference/status/st.status) to display output from long-running tasks.\n",
        "\n",
        "```\n",
        "with st.status(\"Downloading data...\", expanded=True) as status:\n",
        "    st.write(\"Searching for data...\")\n",
        "    time.sleep(2)\n",
        "    st.write(\"Found URL.\")\n",
        "    time.sleep(1)\n",
        "    st.write(\"Downloading data...\")\n",
        "    time.sleep(1)\n",
        "    status.update(\n",
        "        label=\"Download complete!\", state=\"complete\", expanded=False\n",
        "    )\n",
        "```"
      ]
    },
    {
      "cell_type": "markdown",
      "metadata": {
        "id": "Ip5aN3YxfWnC"
      },
      "source": [
        "## Run your app\n",
        "This section runs the python file generated above through streamlit to create your app! \\\n",
        "It generates the IP Address for accessing your app, copy the IP Address and select the link. \\\n",
        "Paste the IP Address in the the **Tunnel Password** and submit, you will be redirected to your app."
      ]
    },
    {
      "cell_type": "code",
      "execution_count": null,
      "metadata": {
        "cellView": "form",
        "id": "lh9syKzjcgMV"
      },
      "outputs": [],
      "source": [
        "# @title Launch app\n",
        "# @markdown Copy the tunnel password and paste it in the url to access your app!\n",
        "! python3 -m streamlit run app.py &>/content/logs.txt & npx localtunnel --port 8501 & curl ipv4.icanhazip.com\n",
        "# jx-eg-demo/demo"
      ]
    },
    {
      "cell_type": "markdown",
      "metadata": {
        "id": "OEEpl3Aw0qnA"
      },
      "source": [
        "## NotebookLM\n",
        "This section goes through NotebookLM.\n",
        "Go [here](https://notebooklm.google.com/) to access NotebookLM"
      ]
    }
  ],
  "metadata": {
    "colab": {
      "collapsed_sections": [
        "m-B_W9Rlix8F",
        "1YKMm8d764FL",
        "FpgDmx7y29or",
        "JhwHceRe2NcB",
        "zsgqPBuH7JQL",
        "RTjoyOVk4iR1",
        "D-MFst_d0eAh"
      ],
      "provenance": []
    },
    "kernelspec": {
      "display_name": "Python 3",
      "name": "python3"
    },
    "language_info": {
      "name": "python"
    }
  },
  "nbformat": 4,
  "nbformat_minor": 0
}
